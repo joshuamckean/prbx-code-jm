{
 "cells": [
  {
   "cell_type": "markdown",
   "metadata": {},
   "source": [
    "# Demonstration of various configurations of the universe\n",
    "\n",
    "Chosen method: <b><i> Method 2</i></b>\n",
    "\n",
    "Imports and variables:"
   ]
  },
  {
   "cell_type": "code",
   "execution_count": 1,
   "metadata": {},
   "outputs": [],
   "source": [
    "import numpy as np\n",
    "import matplotlib.pyplot as plt\n",
    "\n",
    "TAU = np.pi*2\n",
    "chords_to_draw = 100\n",
    "\n",
    "# size of the 'universe'\n",
    "r = 100"
   ]
  },
  {
   "cell_type": "markdown",
   "metadata": {},
   "source": [
    "Define necessary methods:"
   ]
  },
  {
   "cell_type": "code",
   "execution_count": 2,
   "metadata": {},
   "outputs": [],
   "source": [
    "# Returns Boolean\n",
    "def intersects(line,circles):\n",
    "    x1,x2 = line[0][0], line[1][0]\n",
    "    y1,y2 = line[0][1], line[1][1]\n",
    "\n",
    "    gradient = (y2-y1)/(x2-x1)\n",
    "    intercept = y2-(gradient*x2)\n",
    "    \n",
    "    for circle in circles:\n",
    "        center = circle.center\n",
    "        radius = circle.radius\n",
    "        \n",
    "        # equation for closest approach to a point (circle center) given a line equation\n",
    "        distance = (np.abs(gradient*center[0] - center[1] + intercept))/(np.sqrt(gradient**2 + 1))\n",
    "        \n",
    "        if distance <= radius:\n",
    "            # first time it detects an intersect, exit the loop as the chord is invalid\n",
    "            return True\n",
    "    \n",
    "    # if no intersect is detected\n",
    "    return False"
   ]
  },
  {
   "cell_type": "code",
   "execution_count": 3,
   "metadata": {},
   "outputs": [],
   "source": [
    "# Returns Boolean\n",
    "def draw_chord(p1,p2,c1,thickness):\n",
    "    x1,x2 = p1[0], p2[0]\n",
    "    y1,y2 = p1[1], p2[1]\n",
    "\n",
    "    if intersects((p1,p2), c1):\n",
    "        plt.plot([x1,x2],[y1,y2],'red',linewidth=thickness)\n",
    "        return True\n",
    "    else:\n",
    "        plt.plot([x1,x2],[y1,y2],'green',linewidth=thickness)\n",
    "        return False"
   ]
  },
  {
   "cell_type": "code",
   "execution_count": 4,
   "metadata": {},
   "outputs": [],
   "source": [
    "# Return pair of floats\n",
    "\n",
    "def get_coords(r,theta):\n",
    "    return r * np.cos(theta), r * np.sin(theta)\n",
    "\n",
    "def get_chord(x,y,r,angle):\n",
    "    chord_length = np.sqrt(r**2 - (np.sqrt(x**2 + y**2))**2)\n",
    "    p1 = x + chord_length * np.cos(angle), y + chord_length * np.sin(angle)\n",
    "    p2 = x - chord_length * np.cos(angle), y - chord_length * np.sin(angle)\n",
    "\n",
    "    return p1,p2"
   ]
  },
  {
   "cell_type": "markdown",
   "metadata": {},
   "source": [
    "Generate random chords:"
   ]
  },
  {
   "cell_type": "code",
   "execution_count": 5,
   "metadata": {},
   "outputs": [],
   "source": [
    "def generate_chords(chords_to_draw):\n",
    "    chords = []\n",
    "\n",
    "    for i in range(chords_to_draw):\n",
    "        # generate random radius angle\n",
    "        angle = np.random.uniform() * TAU\n",
    "        x, y = get_coords(r,angle)\n",
    "\n",
    "        # subtract 90 degrees (pi/2) to get perpendicular\n",
    "        angle_perp = angle - np.pi/2\n",
    "\n",
    "        # choose a random radius length\n",
    "        r_length = np.random.uniform() * r\n",
    "        x, y = get_coords(r_length, angle)\n",
    "\n",
    "        # generates chord perpendicular to end of partial radius\n",
    "        p1, p2 = get_chord(x,y,r,angle_perp)\n",
    "\n",
    "        chords.append((p1,p2))\n",
    "    return chords"
   ]
  },
  {
   "cell_type": "markdown",
   "metadata": {},
   "source": [
    "Simulate model and store data:"
   ]
  },
  {
   "cell_type": "code",
   "execution_count": 6,
   "metadata": {},
   "outputs": [
    {
     "name": "stdout",
     "output_type": "stream",
     "text": [
      "0.0 percent complete\n",
      "6.67 percent complete\n",
      "13.33 percent complete\n",
      "20.0 percent complete\n",
      "26.67 percent complete\n",
      "33.33 percent complete\n",
      "40.0 percent complete\n",
      "46.67 percent complete\n",
      "53.33 percent complete\n",
      "60.0 percent complete\n",
      "66.67 percent complete\n",
      "73.33 percent complete\n",
      "80.0 percent complete\n",
      "86.67 percent complete\n",
      "93.33 percent complete\n"
     ]
    }
   ],
   "source": [
    "universe = plt.Circle((0,0), r, color='black', fill=False)\n",
    "\n",
    "results = []\n",
    "num_chords = 10000000\n",
    "num_tests = 15\n",
    "increment = 35/num_tests\n",
    "\n",
    "for i in range(num_tests):\n",
    "    print(round(i/num_tests * 100,2), \"percent complete\")\n",
    "    bodies = []\n",
    "    body_data = [((0, 10 + (increment)*i),10), \n",
    "                 ((0,-10 - (increment)*i),10)]\n",
    "\n",
    "    for d in body_data:\n",
    "        bodies.append(plt.Circle(d[0],d[1],color='blue',fill=False))\n",
    "\n",
    "    total = num_chords\n",
    "    chords = generate_chords(num_chords)\n",
    "\n",
    "    for i in range(len(chords)):\n",
    "        if intersects((chords[i][0],chords[i][1]),bodies):\n",
    "            total -= 1\n",
    "\n",
    "    valid = total\n",
    "    invalid = num_chords-total\n",
    "\n",
    "    results.append((valid,invalid,np.log(valid/num_chords),round(bodies[0].center[1],2) - round(bodies[1].center[1],3)))\n",
    "\n",
    "entropy_distance_data = []\n",
    "for val in results:\n",
    "    entropy_distance_data.append((val[2],val[3]))"
   ]
  },
  {
   "cell_type": "markdown",
   "metadata": {},
   "source": [
    "Write data to external file for use in plotting"
   ]
  },
  {
   "cell_type": "code",
   "execution_count": 7,
   "metadata": {},
   "outputs": [],
   "source": [
    "data_to_write = []\n",
    "for d in entropy_distance_data:\n",
    "    data_to_write.append(d[0])\n",
    "    data_to_write.append(d[1])"
   ]
  },
  {
   "cell_type": "markdown",
   "metadata": {},
   "source": [
    "While overwriting one file with current dataset, append to file with all previous datasets too"
   ]
  },
  {
   "cell_type": "code",
   "execution_count": 8,
   "metadata": {},
   "outputs": [],
   "source": [
    "dataset = open(\"datasets.txt\",'a')\n",
    "for d in data_to_write:\n",
    "    dataset.write(str(d)+',')\n",
    "dataset.write(\"\\n\\n\")\n",
    "dataset.close()"
   ]
  }
 ],
 "metadata": {
  "kernelspec": {
   "display_name": "base",
   "language": "python",
   "name": "python3"
  },
  "language_info": {
   "codemirror_mode": {
    "name": "ipython",
    "version": 3
   },
   "file_extension": ".py",
   "mimetype": "text/x-python",
   "name": "python",
   "nbconvert_exporter": "python",
   "pygments_lexer": "ipython3",
   "version": "3.9.13"
  }
 },
 "nbformat": 4,
 "nbformat_minor": 2
}
